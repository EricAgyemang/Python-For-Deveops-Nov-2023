{
  "nbformat": 4,
  "nbformat_minor": 0,
  "metadata": {
    "colab": {
      "provenance": [],
      "authorship_tag": "ABX9TyNTIK896GKZuuYft0t2JFN5",
      "include_colab_link": true
    },
    "kernelspec": {
      "name": "python3",
      "display_name": "Python 3"
    },
    "language_info": {
      "name": "python"
    }
  },
  "cells": [
    {
      "cell_type": "markdown",
      "metadata": {
        "id": "view-in-github",
        "colab_type": "text"
      },
      "source": [
        "<a href=\"https://colab.research.google.com/github/EricAgyemang/Python-For-Deveops-Nov-2023/blob/main/Getting_Started_python.ipynb\" target=\"_parent\"><img src=\"https://colab.research.google.com/assets/colab-badge.svg\" alt=\"Open In Colab\"/></a>"
      ]
    },
    {
      "cell_type": "markdown",
      "source": [
        "# Introduction to Python\n"
      ],
      "metadata": {
        "id": "s-ERgk09Dc9T"
      }
    },
    {
      "cell_type": "markdown",
      "source": [
        "## Data Structures"
      ],
      "metadata": {
        "id": "LTgbctvxDiQ2"
      }
    },
    {
      "cell_type": "markdown",
      "source": [
        "### List"
      ],
      "metadata": {
        "id": "Eq7Zc8rnDmLV"
      }
    },
    {
      "cell_type": "code",
      "execution_count": 1,
      "metadata": {
        "id": "PYBlI9-47lNy",
        "colab": {
          "base_uri": "https://localhost:8080/"
        },
        "outputId": "23e35645-9b58-4fd6-fd61-c1a1563cfd44"
      },
      "outputs": [
        {
          "output_type": "execute_result",
          "data": {
            "text/plain": [
              "list"
            ]
          },
          "metadata": {},
          "execution_count": 1
        }
      ],
      "source": [
        "# A list of fruits\n",
        "\n",
        "fruits = ['apple','pear', 'mango', 'banana']\n",
        "\n",
        "type(fruits)"
      ]
    },
    {
      "cell_type": "code",
      "source": [
        "# A loop to print items in fruits\n",
        "\n",
        "for item in fruits:\n",
        "  print(f'My favorite fruit: {item}')"
      ],
      "metadata": {
        "id": "d1YFHYnSJSsU",
        "colab": {
          "base_uri": "https://localhost:8080/"
        },
        "outputId": "82c9cd26-b594-4a5a-8186-26bbad4da6d5"
      },
      "execution_count": 2,
      "outputs": [
        {
          "output_type": "stream",
          "name": "stdout",
          "text": [
            "My favorite fruit: apple\n",
            "My favorite fruit: pear\n",
            "My favorite fruit: mango\n",
            "My favorite fruit: banana\n"
          ]
        }
      ]
    },
    {
      "cell_type": "code",
      "source": [
        "# Print item at index 0\n",
        "\n",
        "fruits[0]"
      ],
      "metadata": {
        "colab": {
          "base_uri": "https://localhost:8080/",
          "height": 35
        },
        "id": "AwH5SEuxDhEB",
        "outputId": "2be5cf7f-d32d-4ee7-9fea-28e3cdbb122e"
      },
      "execution_count": 4,
      "outputs": [
        {
          "output_type": "execute_result",
          "data": {
            "text/plain": [
              "'apple'"
            ],
            "application/vnd.google.colaboratory.intrinsic+json": {
              "type": "string"
            }
          },
          "metadata": {},
          "execution_count": 4
        }
      ]
    },
    {
      "cell_type": "code",
      "source": [
        "# Print items from index 0 to the last\n",
        "\n",
        "fruits[:-1]"
      ],
      "metadata": {
        "id": "tTJXvZ6QJSv_",
        "colab": {
          "base_uri": "https://localhost:8080/"
        },
        "outputId": "4b14bd37-e4d7-48d0-d92e-7794ba40b9cb"
      },
      "execution_count": 6,
      "outputs": [
        {
          "output_type": "execute_result",
          "data": {
            "text/plain": [
              "['apple', 'pear', 'mango']"
            ]
          },
          "metadata": {},
          "execution_count": 6
        }
      ]
    },
    {
      "cell_type": "markdown",
      "source": [
        "### Dictionary"
      ],
      "metadata": {
        "id": "TmDdzdzZEqyg"
      }
    },
    {
      "cell_type": "code",
      "source": [
        "# A dictionary of fruits\n",
        "\n",
        "fruits = {'a': 'apple', 'b': 'banana', 'm': 'mango', 'p': 'pear'}"
      ],
      "metadata": {
        "id": "5wb2-5yfEOPq"
      },
      "execution_count": 8,
      "outputs": []
    },
    {
      "cell_type": "code",
      "source": [
        "# Print the keys\n",
        "\n",
        "fruits.keys()"
      ],
      "metadata": {
        "colab": {
          "base_uri": "https://localhost:8080/"
        },
        "id": "5YXdTmg1EOSs",
        "outputId": "c1f40526-7e66-400d-b70c-1ce007915f6e"
      },
      "execution_count": 9,
      "outputs": [
        {
          "output_type": "execute_result",
          "data": {
            "text/plain": [
              "dict_keys(['a', 'b', 'm', 'p'])"
            ]
          },
          "metadata": {},
          "execution_count": 9
        }
      ]
    },
    {
      "cell_type": "code",
      "source": [
        "# Print the values\n",
        "\n",
        "fruits.values()"
      ],
      "metadata": {
        "colab": {
          "base_uri": "https://localhost:8080/"
        },
        "id": "zgfZg_X9EOWz",
        "outputId": "73beee50-725f-4b4a-c530-ff7981175700"
      },
      "execution_count": 10,
      "outputs": [
        {
          "output_type": "execute_result",
          "data": {
            "text/plain": [
              "dict_values(['apple', 'banana', 'mango', 'pear'])"
            ]
          },
          "metadata": {},
          "execution_count": 10
        }
      ]
    },
    {
      "cell_type": "code",
      "source": [
        "for alphabet, fruit in fruits.items():\n",
        "  print(f'The alphabet {alphabet} is associated with {fruit}')"
      ],
      "metadata": {
        "id": "BMGeCATtJPuZ",
        "colab": {
          "base_uri": "https://localhost:8080/"
        },
        "outputId": "101fd57e-76a2-4b48-b885-4ff2e0e17f60"
      },
      "execution_count": 12,
      "outputs": [
        {
          "output_type": "stream",
          "name": "stdout",
          "text": [
            "The alphabet a is associated with apple\n",
            "The alphabet b is associated with banana\n",
            "The alphabet m is associated with mango\n",
            "The alphabet p is associated with pear\n"
          ]
        }
      ]
    },
    {
      "cell_type": "code",
      "source": [],
      "metadata": {
        "id": "PdD5iCnQFQa-"
      },
      "execution_count": null,
      "outputs": []
    },
    {
      "cell_type": "code",
      "source": [],
      "metadata": {
        "id": "4Oz56aBQFQed"
      },
      "execution_count": null,
      "outputs": []
    },
    {
      "cell_type": "code",
      "source": [],
      "metadata": {
        "id": "bEjPhsMzFQim"
      },
      "execution_count": null,
      "outputs": []
    }
  ]
}